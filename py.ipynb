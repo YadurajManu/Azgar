{
 "cells": [
  {
   "cell_type": "code",
   "execution_count": 1,
   "metadata": {},
   "outputs": [
    {
     "name": "stdout",
     "output_type": "stream",
     "text": [
      "wefwef\n"
     ]
    }
   ],
   "source": [
    "print(\"wefwef\")"
   ]
  },
  {
   "cell_type": "code",
   "execution_count": 1,
   "metadata": {},
   "outputs": [
    {
     "name": "stdout",
     "output_type": "stream",
     "text": [
      "\n",
      "Employee 1:\n",
      "Final Salary: 151954.1\n",
      "Bonus: 200\n",
      "Raised Salary: 138740.7\n",
      "\n",
      "Employee 2:\n",
      "Final Salary: 141808.8\n",
      "Bonus: 200\n",
      "Raised Salary: 129477.6\n"
     ]
    }
   ],
   "source": [
    "# Taking input for the number of employees\n",
    "n = int(input(\"Enter number of employees: \"))\n",
    "\n",
    "for i in range(1, n + 1):\n",
    "    basic_salary = float(input(f\"Enter basic salary for Employee {i}: \"))\n",
    "\n",
    "    # Allowances\n",
    "    hra = 0.2 * basic_salary  \n",
    "    ma = 0.1 * basic_salary   \n",
    "    ta = 0.05 * basic_salary  \n",
    "\n",
    "    # Deductions\n",
    "    tax = 0.08 * basic_salary  \n",
    "    pf = 0.12 * basic_salary   \n",
    "\n",
    "    # Final salary calculation\n",
    "    final_salary = basic_salary + hra + ma + ta - tax - pf\n",
    "    bonus = 200 if final_salary > 5000 else 0\n",
    "\n",
    "    # Raise calculation\n",
    "    if basic_salary < 4000:\n",
    "        raise_amount = 0.15 * basic_salary\n",
    "    elif basic_salary <= 7000:\n",
    "        raise_amount = 0.10 * basic_salary\n",
    "    else:\n",
    "        raise_amount = 0.05 * basic_salary\n",
    "\n",
    "    new_salary = basic_salary + raise_amount\n",
    "\n",
    "    # Output\n",
    "    print(f\"\\nEmployee {i}:\")\n",
    "    print(\"Final Salary:\", round(final_salary, 2))\n",
    "    if bonus:\n",
    "        print(\"Bonus:\", bonus)\n",
    "    print(\"Raised Salary:\", round(new_salary, 2))\n"
   ]
  },
  {
   "cell_type": "code",
   "execution_count": 2,
   "metadata": {},
   "outputs": [
    {
     "name": "stdout",
     "output_type": "stream",
     "text": [
      "\n",
      "Employee 1:\n",
      "Basic Salary: 46758.0\n",
      "Allowances - HRA: 9351.6 , MA: 4675.8 , TA: 2337.9\n",
      "Deductions - Tax: 3740.64 , PF: 5610.96\n",
      "Final Salary: 53771.7\n",
      "Bonus: 200\n",
      "New Salary after Raise: 49095.9\n",
      "Net Salary (Final Salary + Bonus if applicable): 53971.7\n",
      "----------------------------------------\n",
      "\n",
      "Employee 2:\n",
      "Basic Salary: 465787.0\n",
      "Allowances - HRA: 93157.40000000001 , MA: 46578.700000000004 , TA: 23289.350000000002\n",
      "Deductions - Tax: 37262.96 , PF: 55894.439999999995\n",
      "Final Salary: 535655.05\n",
      "Bonus: 200\n",
      "New Salary after Raise: 489076.35\n",
      "Net Salary (Final Salary + Bonus if applicable): 535855.05\n",
      "----------------------------------------\n"
     ]
    }
   ],
   "source": [
    "# Taking input for the number of employees\n",
    "n = int(input(\"Enter number of employees: \"))\n",
    "\n",
    "for i in range(1, n + 1):\n",
    "    basic_salary = float(input(f\"Enter basic salary for Employee {i}: \"))\n",
    "\n",
    "    # Allowances\n",
    "    hra = 0.2 * basic_salary  \n",
    "    ma = 0.1 * basic_salary   \n",
    "    ta = 0.05 * basic_salary  \n",
    "\n",
    "    # Deductions\n",
    "    tax = 0.08 * basic_salary  \n",
    "    pf = 0.12 * basic_salary   \n",
    "\n",
    "    # Final salary calculation\n",
    "    final_salary = basic_salary + hra + ma + ta - tax - pf\n",
    "    bonus = 200 if final_salary > 5000 else 0\n",
    "\n",
    "    # Raise calculation\n",
    "    if basic_salary < 4000:\n",
    "        raise_amount = 0.15 * basic_salary\n",
    "    elif basic_salary <= 7000:\n",
    "        raise_amount = 0.10 * basic_salary\n",
    "    else:\n",
    "        raise_amount = 0.05 * basic_salary\n",
    "\n",
    "    new_salary = basic_salary + raise_amount\n",
    "    net_salary = final_salary + bonus  # Net Salary after bonus\n",
    "\n",
    "    # Output\n",
    "    print(f\"\\nEmployee {i}:\")\n",
    "    print(\"Basic Salary:\", basic_salary)\n",
    "    print(\"Allowances - HRA:\", hra, \", MA:\", ma, \", TA:\", ta)\n",
    "    print(\"Deductions - Tax:\", tax, \", PF:\", pf)\n",
    "    print(\"Final Salary:\", round(final_salary, 2))\n",
    "    \n",
    "    if bonus:\n",
    "        print(\"Bonus:\", bonus)\n",
    "    \n",
    "    print(\"New Salary after Raise:\", round(new_salary, 2))\n",
    "    print(\"Net Salary (Final Salary + Bonus if applicable):\", round(net_salary, 2))\n",
    "    print(\"-\" * 40)\n"
   ]
  },
  {
   "cell_type": "markdown",
   "metadata": {},
   "source": [
    "b,jvmb,n"
   ]
  },
  {
   "cell_type": "code",
   "execution_count": 4,
   "metadata": {},
   "outputs": [
    {
     "name": "stdout",
     "output_type": "stream",
     "text": [
      "Grade: A\n"
     ]
    }
   ],
   "source": [
    "marks = int(input(\"Enter your marks: \"))\n",
    "\n",
    "if marks >= 90:  \n",
    "    print(\"Grade: A\")  \n",
    "elif marks >= 75:  \n",
    "    print(\"Grade: B\")  \n",
    "elif marks >= 50:  \n",
    "    print(\"Grade: C\")  \n",
    "else:  \n",
    "    print(\"Grade: F (Fail)\")  \n"
   ]
  },
  {
   "cell_type": "code",
   "execution_count": 2,
   "metadata": {},
   "outputs": [
    {
     "data": {
      "text/plain": [
       "2316"
      ]
     },
     "execution_count": 2,
     "metadata": {},
     "output_type": "execute_result"
    }
   ],
   "source": [
    "4+2312"
   ]
  }
 ],
 "metadata": {
  "kernelspec": {
   "display_name": "Python 3",
   "language": "python",
   "name": "python3"
  },
  "language_info": {
   "codemirror_mode": {
    "name": "ipython",
    "version": 3
   },
   "file_extension": ".py",
   "mimetype": "text/x-python",
   "name": "python",
   "nbconvert_exporter": "python",
   "pygments_lexer": "ipython3",
   "version": "3.11.7"
  }
 },
 "nbformat": 4,
 "nbformat_minor": 2
}
